{
 "cells": [
  {
   "cell_type": "markdown",
   "metadata": {},
   "source": [
    "## Data visualisation Drosophila melanogaster - oxiblot\n",
    "- mef - control line\n",
    "- mefxCG4190 - RNAi line\n",
    "\n",
    "##### Data was generated randomly using normal distribution."
   ]
  },
  {
   "cell_type": "code",
   "execution_count": 16,
   "metadata": {},
   "outputs": [],
   "source": [
    "import pandas as pd\n",
    "import matplotlib.pyplot as plt\n",
    "import seaborn as sns\n",
    "from scipy.stats import ttest_ind\n",
    "import numpy as np\n",
    "palette=\"Set1\""
   ]
  },
  {
   "cell_type": "code",
   "execution_count": 17,
   "metadata": {},
   "outputs": [
    {
     "data": {
      "text/html": [
       "<div>\n",
       "<style scoped>\n",
       "    .dataframe tbody tr th:only-of-type {\n",
       "        vertical-align: middle;\n",
       "    }\n",
       "\n",
       "    .dataframe tbody tr th {\n",
       "        vertical-align: top;\n",
       "    }\n",
       "\n",
       "    .dataframe thead th {\n",
       "        text-align: right;\n",
       "    }\n",
       "</style>\n",
       "<table border=\"1\" class=\"dataframe\">\n",
       "  <thead>\n",
       "    <tr style=\"text-align: right;\">\n",
       "      <th></th>\n",
       "      <th>Unnamed: 0</th>\n",
       "      <th>gel</th>\n",
       "      <th>sample</th>\n",
       "      <th>line</th>\n",
       "      <th>Ponceau-density</th>\n",
       "      <th>Ponceau-area</th>\n",
       "      <th>Blot-density</th>\n",
       "      <th>Blot-area</th>\n",
       "      <th>Ponceau-protein</th>\n",
       "      <th>Blot-oxidation</th>\n",
       "      <th>Oxidation index</th>\n",
       "    </tr>\n",
       "  </thead>\n",
       "  <tbody>\n",
       "    <tr>\n",
       "      <th>0</th>\n",
       "      <td>0</td>\n",
       "      <td>1</td>\n",
       "      <td>fresh</td>\n",
       "      <td>mef</td>\n",
       "      <td>25450.828730</td>\n",
       "      <td>0.274481</td>\n",
       "      <td>55.524902</td>\n",
       "      <td>0.290043</td>\n",
       "      <td>92723.512304</td>\n",
       "      <td>191.436556</td>\n",
       "      <td>0.206460</td>\n",
       "    </tr>\n",
       "    <tr>\n",
       "      <th>1</th>\n",
       "      <td>1</td>\n",
       "      <td>1</td>\n",
       "      <td>fresh</td>\n",
       "      <td>mef</td>\n",
       "      <td>14427.483428</td>\n",
       "      <td>0.397640</td>\n",
       "      <td>37.982296</td>\n",
       "      <td>0.204229</td>\n",
       "      <td>36282.798414</td>\n",
       "      <td>185.978810</td>\n",
       "      <td>0.512581</td>\n",
       "    </tr>\n",
       "    <tr>\n",
       "      <th>2</th>\n",
       "      <td>2</td>\n",
       "      <td>1</td>\n",
       "      <td>frozen</td>\n",
       "      <td>mef</td>\n",
       "      <td>24265.726911</td>\n",
       "      <td>0.585776</td>\n",
       "      <td>60.084238</td>\n",
       "      <td>0.171223</td>\n",
       "      <td>41424.914613</td>\n",
       "      <td>350.911985</td>\n",
       "      <td>0.847104</td>\n",
       "    </tr>\n",
       "    <tr>\n",
       "      <th>3</th>\n",
       "      <td>3</td>\n",
       "      <td>1</td>\n",
       "      <td>frozen</td>\n",
       "      <td>mef</td>\n",
       "      <td>23464.452606</td>\n",
       "      <td>0.418524</td>\n",
       "      <td>63.278381</td>\n",
       "      <td>0.303644</td>\n",
       "      <td>56064.799140</td>\n",
       "      <td>208.396831</td>\n",
       "      <td>0.371707</td>\n",
       "    </tr>\n",
       "    <tr>\n",
       "      <th>4</th>\n",
       "      <td>4</td>\n",
       "      <td>1</td>\n",
       "      <td>fresh</td>\n",
       "      <td>mefxCG4190</td>\n",
       "      <td>18020.542806</td>\n",
       "      <td>0.403548</td>\n",
       "      <td>47.922568</td>\n",
       "      <td>0.260229</td>\n",
       "      <td>44655.238557</td>\n",
       "      <td>184.155087</td>\n",
       "      <td>0.412393</td>\n",
       "    </tr>\n",
       "  </tbody>\n",
       "</table>\n",
       "</div>"
      ],
      "text/plain": [
       "   Unnamed: 0  gel  sample        line  Ponceau-density  Ponceau-area  \\\n",
       "0           0    1   fresh         mef     25450.828730      0.274481   \n",
       "1           1    1   fresh         mef     14427.483428      0.397640   \n",
       "2           2    1  frozen         mef     24265.726911      0.585776   \n",
       "3           3    1  frozen         mef     23464.452606      0.418524   \n",
       "4           4    1   fresh  mefxCG4190     18020.542806      0.403548   \n",
       "\n",
       "   Blot-density  Blot-area  Ponceau-protein  Blot-oxidation  Oxidation index  \n",
       "0     55.524902   0.290043     92723.512304      191.436556         0.206460  \n",
       "1     37.982296   0.204229     36282.798414      185.978810         0.512581  \n",
       "2     60.084238   0.171223     41424.914613      350.911985         0.847104  \n",
       "3     63.278381   0.303644     56064.799140      208.396831         0.371707  \n",
       "4     47.922568   0.260229     44655.238557      184.155087         0.412393  "
      ]
     },
     "execution_count": 17,
     "metadata": {},
     "output_type": "execute_result"
    }
   ],
   "source": [
    "oxi = pd.read_csv(\"data/oxyblot.csv\", sep=\",\", index_col=False)\n",
    "\n",
    "oxi[\"Ponceau-protein\"] = oxi[\"Ponceau-density\"]/oxi[\"Ponceau-area\"]\n",
    "oxi[\"Blot-oxidation\"] = oxi[\"Blot-density\"]/oxi[\"Blot-area\"]\n",
    "oxi[\"Oxidation index\"] = (oxi[\"Blot-oxidation\"]/oxi[\"Ponceau-protein\"])*100\n",
    "oxi.head()"
   ]
  },
  {
   "cell_type": "code",
   "execution_count": 18,
   "metadata": {},
   "outputs": [
    {
     "name": "stdout",
     "output_type": "stream",
     "text": [
      "Sample order: mef, mefxCG4190\n"
     ]
    },
    {
     "data": {
      "image/png": "[encoded data removed]",
      "text/plain": [
       "<Figure size 432x288 with 1 Axes>"
      ]
     },
     "metadata": {
      "needs_background": "light"
     },
     "output_type": "display_data"
    }
   ],
   "source": [
    "# one path (gel2, 1)was excluded from data because of beeing outlier of Q3+1,5x interqaurtile range\n",
    "\n",
    "img = plt.imread(\"images/oxi-16-05-19.tif\")\n",
    "img_1 = plt.imread(\"images/ChemiDocMp 2019-05-17 11hr 29min+ChemiDocMp 2019-05-17 11hr 27min_Exposure_30.0sec.tif\")\n",
    "img_2 = plt.imread(\"images/ChemiDocMp 2019-05-17 11hr 34min+ChemiDocMp 2019-05-17 11hr 33min_Exposure_18.4sec.tif\")\n",
    "plt.imshow(img);\n",
    "\n",
    "print(f\"Sample order: mef, mefxCG4190\")"
   ]
  },
  {
   "cell_type": "code",
   "execution_count": 19,
   "metadata": {},
   "outputs": [
    {
     "data": {
      "image/png": "[encoded data removed]",
      "text/plain": [
       "<Figure size 432x288 with 1 Axes>"
      ]
     },
     "metadata": {
      "needs_background": "light"
     },
     "output_type": "display_data"
    }
   ],
   "source": [
    "plt.imshow(img_1);"
   ]
  },
  {
   "cell_type": "code",
   "execution_count": 20,
   "metadata": {},
   "outputs": [
    {
     "data": {
      "image/png": "[encoded data removed]",
      "text/plain": [
       "<Figure size 432x288 with 1 Axes>"
      ]
     },
     "metadata": {
      "needs_background": "light"
     },
     "output_type": "display_data"
    }
   ],
   "source": [
    "plt.imshow(img_2);"
   ]
  },
  {
   "cell_type": "code",
   "execution_count": 21,
   "metadata": {},
   "outputs": [
    {
     "data": {
      "text/plain": [
       "<seaborn.axisgrid.FacetGrid at 0x112634748>"
      ]
     },
     "execution_count": 21,
     "metadata": {},
     "output_type": "execute_result"
    },
    {
     "data": {
      "image/png": "[encoded data removed]",
      "text/plain": [
       "<Figure size 821.125x360 with 1 Axes>"
      ]
     },
     "metadata": {
      "needs_background": "light"
     },
     "output_type": "display_data"
    }
   ],
   "source": [
    "gel_1 = oxi[oxi[\"gel\"] == 1]\n",
    "gel_2 = oxi[oxi[\"gel\"] == 2]\n",
    "\n",
    "sns.catplot(\"gel\", \"Oxidation index\", data=oxi, kind=\"box\", hue=\"line\", palette=palette, aspect=2.0)\n",
    "# plt.savefig(\"gels_2.png\")"
   ]
  },
  {
   "cell_type": "code",
   "execution_count": 22,
   "metadata": {},
   "outputs": [
    {
     "data": {
      "text/plain": [
       "<seaborn.axisgrid.FacetGrid at 0x1a26252d30>"
      ]
     },
     "execution_count": 22,
     "metadata": {},
     "output_type": "execute_result"
    },
    {
     "data": {
      "text/plain": [
       "<Figure size 1440x1440 with 0 Axes>"
      ]
     },
     "metadata": {},
     "output_type": "display_data"
    },
    {
     "data": {
      "image/png": "[encoded data removed]",
      "text/plain": [
       "<Figure size 749.125x360 with 1 Axes>"
      ]
     },
     "metadata": {
      "needs_background": "light"
     },
     "output_type": "display_data"
    }
   ],
   "source": [
    "plt.figure(figsize=(20, 20))\n",
    "sns.catplot(\"gel\", \"Oxidation index\", data=oxi, kind=\"box\", hue=\"line\", palette=palette, aspect=1.8,showmeans=True )\n",
    "\n",
    "# plt.savefig(\"gels_2.png\")\n",
    "# poziom oksydacji zależnie od żelu"
   ]
  },
  {
   "cell_type": "code",
   "execution_count": 23,
   "metadata": {},
   "outputs": [
    {
     "data": {
      "text/html": [
       "<div>\n",
       "<style scoped>\n",
       "    .dataframe tbody tr th:only-of-type {\n",
       "        vertical-align: middle;\n",
       "    }\n",
       "\n",
       "    .dataframe tbody tr th {\n",
       "        vertical-align: top;\n",
       "    }\n",
       "\n",
       "    .dataframe thead th {\n",
       "        text-align: right;\n",
       "    }\n",
       "</style>\n",
       "<table border=\"1\" class=\"dataframe\">\n",
       "  <thead>\n",
       "    <tr style=\"text-align: right;\">\n",
       "      <th></th>\n",
       "      <th>Unnamed: 0</th>\n",
       "      <th>gel</th>\n",
       "      <th>Ponceau-density</th>\n",
       "      <th>Ponceau-area</th>\n",
       "      <th>Blot-density</th>\n",
       "      <th>Blot-area</th>\n",
       "      <th>Ponceau-protein</th>\n",
       "      <th>Blot-oxidation</th>\n",
       "      <th>Oxidation index</th>\n",
       "    </tr>\n",
       "  </thead>\n",
       "  <tbody>\n",
       "    <tr>\n",
       "      <th>count</th>\n",
       "      <td>15.000000</td>\n",
       "      <td>15.000000</td>\n",
       "      <td>15.000000</td>\n",
       "      <td>15.000000</td>\n",
       "      <td>15.000000</td>\n",
       "      <td>15.000000</td>\n",
       "      <td>15.000000</td>\n",
       "      <td>15.000000</td>\n",
       "      <td>15.000000</td>\n",
       "    </tr>\n",
       "    <tr>\n",
       "      <th>mean</th>\n",
       "      <td>7.000000</td>\n",
       "      <td>1.466667</td>\n",
       "      <td>23452.349575</td>\n",
       "      <td>0.411902</td>\n",
       "      <td>49.508806</td>\n",
       "      <td>0.261802</td>\n",
       "      <td>60644.554836</td>\n",
       "      <td>193.570526</td>\n",
       "      <td>0.390081</td>\n",
       "    </tr>\n",
       "    <tr>\n",
       "      <th>std</th>\n",
       "      <td>4.472136</td>\n",
       "      <td>0.516398</td>\n",
       "      <td>6052.782212</td>\n",
       "      <td>0.093854</td>\n",
       "      <td>14.650398</td>\n",
       "      <td>0.048304</td>\n",
       "      <td>24370.364073</td>\n",
       "      <td>65.133247</td>\n",
       "      <td>0.234698</td>\n",
       "    </tr>\n",
       "    <tr>\n",
       "      <th>min</th>\n",
       "      <td>0.000000</td>\n",
       "      <td>1.000000</td>\n",
       "      <td>14427.483428</td>\n",
       "      <td>0.274481</td>\n",
       "      <td>23.497238</td>\n",
       "      <td>0.171223</td>\n",
       "      <td>36180.405353</td>\n",
       "      <td>101.289454</td>\n",
       "      <td>0.117229</td>\n",
       "    </tr>\n",
       "    <tr>\n",
       "      <th>25%</th>\n",
       "      <td>3.500000</td>\n",
       "      <td>1.000000</td>\n",
       "      <td>19899.220500</td>\n",
       "      <td>0.365989</td>\n",
       "      <td>37.970401</td>\n",
       "      <td>0.231454</td>\n",
       "      <td>39541.157289</td>\n",
       "      <td>149.321769</td>\n",
       "      <td>0.201186</td>\n",
       "    </tr>\n",
       "    <tr>\n",
       "      <th>50%</th>\n",
       "      <td>7.000000</td>\n",
       "      <td>1.000000</td>\n",
       "      <td>23464.452606</td>\n",
       "      <td>0.403548</td>\n",
       "      <td>47.922568</td>\n",
       "      <td>0.282576</td>\n",
       "      <td>56064.799140</td>\n",
       "      <td>185.978810</td>\n",
       "      <td>0.371707</td>\n",
       "    </tr>\n",
       "    <tr>\n",
       "      <th>75%</th>\n",
       "      <td>10.500000</td>\n",
       "      <td>2.000000</td>\n",
       "      <td>24938.333986</td>\n",
       "      <td>0.442943</td>\n",
       "      <td>59.813524</td>\n",
       "      <td>0.291036</td>\n",
       "      <td>72071.101893</td>\n",
       "      <td>210.353019</td>\n",
       "      <td>0.495717</td>\n",
       "    </tr>\n",
       "    <tr>\n",
       "      <th>max</th>\n",
       "      <td>14.000000</td>\n",
       "      <td>2.000000</td>\n",
       "      <td>36853.524171</td>\n",
       "      <td>0.601925</td>\n",
       "      <td>76.686990</td>\n",
       "      <td>0.341589</td>\n",
       "      <td>114946.822367</td>\n",
       "      <td>350.911985</td>\n",
       "      <td>0.847104</td>\n",
       "    </tr>\n",
       "  </tbody>\n",
       "</table>\n",
       "</div>"
      ],
      "text/plain": [
       "       Unnamed: 0        gel  Ponceau-density  Ponceau-area  Blot-density  \\\n",
       "count   15.000000  15.000000        15.000000     15.000000     15.000000   \n",
       "mean     7.000000   1.466667     23452.349575      0.411902     49.508806   \n",
       "std      4.472136   0.516398      6052.782212      0.093854     14.650398   \n",
       "min      0.000000   1.000000     14427.483428      0.274481     23.497238   \n",
       "25%      3.500000   1.000000     19899.220500      0.365989     37.970401   \n",
       "50%      7.000000   1.000000     23464.452606      0.403548     47.922568   \n",
       "75%     10.500000   2.000000     24938.333986      0.442943     59.813524   \n",
       "max     14.000000   2.000000     36853.524171      0.601925     76.686990   \n",
       "\n",
       "       Blot-area  Ponceau-protein  Blot-oxidation  Oxidation index  \n",
       "count  15.000000        15.000000       15.000000        15.000000  \n",
       "mean    0.261802     60644.554836      193.570526         0.390081  \n",
       "std     0.048304     24370.364073       65.133247         0.234698  \n",
       "min     0.171223     36180.405353      101.289454         0.117229  \n",
       "25%     0.231454     39541.157289      149.321769         0.201186  \n",
       "50%     0.282576     56064.799140      185.978810         0.371707  \n",
       "75%     0.291036     72071.101893      210.353019         0.495717  \n",
       "max     0.341589    114946.822367      350.911985         0.847104  "
      ]
     },
     "execution_count": 23,
     "metadata": {},
     "output_type": "execute_result"
    }
   ],
   "source": [
    "oxi.describe()"
   ]
  },
  {
   "cell_type": "code",
   "execution_count": 24,
   "metadata": {},
   "outputs": [
    {
     "data": {
      "text/plain": [
       "<seaborn.axisgrid.FacetGrid at 0x1a264f20b8>"
      ]
     },
     "execution_count": 24,
     "metadata": {},
     "output_type": "execute_result"
    },
    {
     "data": {
      "text/plain": [
       "<Figure size 432x288 with 0 Axes>"
      ]
     },
     "metadata": {},
     "output_type": "display_data"
    },
    {
     "data": {
      "image/png": "[encoded data removed]",
      "text/plain": [
       "<Figure size 360x360 with 1 Axes>"
      ]
     },
     "metadata": {
      "needs_background": "light"
     },
     "output_type": "display_data"
    }
   ],
   "source": [
    "#wyniki zsumowane ze wszystkich żeli\n",
    "plt.figure()\n",
    "\n",
    "sns.catplot(\"line\", \"Oxidation index\", data=oxi, kind=\"box\", palette=palette, showmeans=True )\n",
    "#sns.catplot(\"sample\", \"Oxidation index\", data=oxi, kind=\"box\", palette=palette, showmeans=True )\n",
    "\n",
    "# plt.savefig(\"oxidation\")\n"
   ]
  },
  {
   "cell_type": "code",
   "execution_count": 25,
   "metadata": {},
   "outputs": [
    {
     "data": {
      "text/plain": [
       "<seaborn.axisgrid.FacetGrid at 0x1a26581a58>"
      ]
     },
     "execution_count": 25,
     "metadata": {},
     "output_type": "execute_result"
    },
    {
     "data": {
      "image/png": "[encoded data removed]",
      "text/plain": [
       "<Figure size 360x360 with 1 Axes>"
      ]
     },
     "metadata": {
      "needs_background": "light"
     },
     "output_type": "display_data"
    }
   ],
   "source": [
    "sns.catplot(\"line\", \"Oxidation index\", data=oxi, kind=\"bar\", palette=palette)"
   ]
  },
  {
   "cell_type": "code",
   "execution_count": 26,
   "metadata": {},
   "outputs": [
    {
     "data": {
      "text/plain": [
       "<matplotlib.axes._subplots.AxesSubplot at 0x1a26fd1198>"
      ]
     },
     "execution_count": 26,
     "metadata": {},
     "output_type": "execute_result"
    },
    {
     "data": {
      "image/png": "[encoded data removed]",
      "text/plain": [
       "<Figure size 432x288 with 1 Axes>"
      ]
     },
     "metadata": {
      "needs_background": "light"
     },
     "output_type": "display_data"
    }
   ],
   "source": [
    "# poziom oksydacji, osobno każdy żel, zależnie od tego czy mrożone czy nie\n",
    "sns.stripplot(x=\"line\", y=\"Oxidation index\", data=gel_1,hue=\"line\", palette=palette,jitter=True, size=10)\n",
    "# plt.savefig(\"gel1\")"
   ]
  },
  {
   "cell_type": "code",
   "execution_count": 27,
   "metadata": {},
   "outputs": [
    {
     "data": {
      "text/plain": [
       "<matplotlib.axes._subplots.AxesSubplot at 0x1a272144a8>"
      ]
     },
     "execution_count": 27,
     "metadata": {},
     "output_type": "execute_result"
    },
    {
     "data": {
      "image/png": "[encoded data removed]",
      "text/plain": [
       "<Figure size 432x288 with 1 Axes>"
      ]
     },
     "metadata": {
      "needs_background": "light"
     },
     "output_type": "display_data"
    }
   ],
   "source": [
    "sns.stripplot(x=\"line\", y=\"Oxidation index\", data=gel_2,hue=\"line\", palette=palette,jitter=True, size=10)\n",
    "# plt.savefig(\"gel2\")\n"
   ]
  },
  {
   "cell_type": "code",
   "execution_count": 28,
   "metadata": {},
   "outputs": [
    {
     "data": {
      "text/plain": [
       "<matplotlib.axes._subplots.AxesSubplot at 0x1a27357048>"
      ]
     },
     "execution_count": 28,
     "metadata": {},
     "output_type": "execute_result"
    },
    {
     "data": {
      "image/png": "[encoded data removed]",
      "text/plain": [
       "<Figure size 432x288 with 1 Axes>"
      ]
     },
     "metadata": {
      "needs_background": "light"
     },
     "output_type": "display_data"
    }
   ],
   "source": [
    "mef = oxi[oxi[\"line\"] == \"mef\"]\n",
    "mef_cg = oxi[oxi[\"line\"] == \"mefxCG4190\"]\n",
    "sns.distplot(mef[\"Oxidation index\"]) #blue\n",
    "sns.distplot(mef_cg[\"Oxidation index\"])#orange"
   ]
  },
  {
   "cell_type": "code",
   "execution_count": 29,
   "metadata": {},
   "outputs": [
    {
     "data": {
      "text/html": [
       "<div>\n",
       "<style scoped>\n",
       "    .dataframe tbody tr th:only-of-type {\n",
       "        vertical-align: middle;\n",
       "    }\n",
       "\n",
       "    .dataframe tbody tr th {\n",
       "        vertical-align: top;\n",
       "    }\n",
       "\n",
       "    .dataframe thead th {\n",
       "        text-align: right;\n",
       "    }\n",
       "</style>\n",
       "<table border=\"1\" class=\"dataframe\">\n",
       "  <thead>\n",
       "    <tr style=\"text-align: right;\">\n",
       "      <th></th>\n",
       "      <th>Unnamed: 0</th>\n",
       "      <th>gel</th>\n",
       "      <th>Ponceau-density</th>\n",
       "      <th>Ponceau-area</th>\n",
       "      <th>Blot-density</th>\n",
       "      <th>Blot-area</th>\n",
       "      <th>Ponceau-protein</th>\n",
       "      <th>Blot-oxidation</th>\n",
       "      <th>Oxidation index</th>\n",
       "    </tr>\n",
       "  </thead>\n",
       "  <tbody>\n",
       "    <tr>\n",
       "      <th>count</th>\n",
       "      <td>7.000000</td>\n",
       "      <td>7.000000</td>\n",
       "      <td>7.000000</td>\n",
       "      <td>7.000000</td>\n",
       "      <td>7.000000</td>\n",
       "      <td>7.000000</td>\n",
       "      <td>7.000000</td>\n",
       "      <td>7.000000</td>\n",
       "      <td>7.000000</td>\n",
       "    </tr>\n",
       "    <tr>\n",
       "      <th>mean</th>\n",
       "      <td>4.714286</td>\n",
       "      <td>1.428571</td>\n",
       "      <td>21639.584123</td>\n",
       "      <td>0.403118</td>\n",
       "      <td>53.528084</td>\n",
       "      <td>0.251279</td>\n",
       "      <td>59345.445440</td>\n",
       "      <td>221.641638</td>\n",
       "      <td>0.479875</td>\n",
       "    </tr>\n",
       "    <tr>\n",
       "      <th>std</th>\n",
       "      <td>4.151879</td>\n",
       "      <td>0.534522</td>\n",
       "      <td>6332.248100</td>\n",
       "      <td>0.106919</td>\n",
       "      <td>12.509665</td>\n",
       "      <td>0.050307</td>\n",
       "      <td>31806.819775</td>\n",
       "      <td>75.740243</td>\n",
       "      <td>0.280814</td>\n",
       "    </tr>\n",
       "    <tr>\n",
       "      <th>min</th>\n",
       "      <td>0.000000</td>\n",
       "      <td>1.000000</td>\n",
       "      <td>14427.483428</td>\n",
       "      <td>0.274481</td>\n",
       "      <td>35.959745</td>\n",
       "      <td>0.171223</td>\n",
       "      <td>36282.798414</td>\n",
       "      <td>134.751189</td>\n",
       "      <td>0.117229</td>\n",
       "    </tr>\n",
       "    <tr>\n",
       "      <th>25%</th>\n",
       "      <td>1.500000</td>\n",
       "      <td>1.000000</td>\n",
       "      <td>16070.736146</td>\n",
       "      <td>0.336828</td>\n",
       "      <td>45.320987</td>\n",
       "      <td>0.217579</td>\n",
       "      <td>36987.635621</td>\n",
       "      <td>183.151188</td>\n",
       "      <td>0.289083</td>\n",
       "    </tr>\n",
       "    <tr>\n",
       "      <th>50%</th>\n",
       "      <td>3.000000</td>\n",
       "      <td>1.000000</td>\n",
       "      <td>23464.452606</td>\n",
       "      <td>0.418524</td>\n",
       "      <td>55.524902</td>\n",
       "      <td>0.266860</td>\n",
       "      <td>41424.914613</td>\n",
       "      <td>191.436556</td>\n",
       "      <td>0.478853</td>\n",
       "    </tr>\n",
       "    <tr>\n",
       "      <th>75%</th>\n",
       "      <td>8.500000</td>\n",
       "      <td>2.000000</td>\n",
       "      <td>24858.277820</td>\n",
       "      <td>0.434697</td>\n",
       "      <td>61.681309</td>\n",
       "      <td>0.291036</td>\n",
       "      <td>74394.155722</td>\n",
       "      <td>254.044679</td>\n",
       "      <td>0.668887</td>\n",
       "    </tr>\n",
       "    <tr>\n",
       "      <th>max</th>\n",
       "      <td>10.000000</td>\n",
       "      <td>2.000000</td>\n",
       "      <td>31727.124899</td>\n",
       "      <td>0.585776</td>\n",
       "      <td>69.207349</td>\n",
       "      <td>0.303644</td>\n",
       "      <td>114946.822367</td>\n",
       "      <td>350.911985</td>\n",
       "      <td>0.847104</td>\n",
       "    </tr>\n",
       "  </tbody>\n",
       "</table>\n",
       "</div>"
      ],
      "text/plain": [
       "       Unnamed: 0       gel  Ponceau-density  Ponceau-area  Blot-density  \\\n",
       "count    7.000000  7.000000         7.000000      7.000000      7.000000   \n",
       "mean     4.714286  1.428571     21639.584123      0.403118     53.528084   \n",
       "std      4.151879  0.534522      6332.248100      0.106919     12.509665   \n",
       "min      0.000000  1.000000     14427.483428      0.274481     35.959745   \n",
       "25%      1.500000  1.000000     16070.736146      0.336828     45.320987   \n",
       "50%      3.000000  1.000000     23464.452606      0.418524     55.524902   \n",
       "75%      8.500000  2.000000     24858.277820      0.434697     61.681309   \n",
       "max     10.000000  2.000000     31727.124899      0.585776     69.207349   \n",
       "\n",
       "       Blot-area  Ponceau-protein  Blot-oxidation  Oxidation index  \n",
       "count   7.000000         7.000000        7.000000         7.000000  \n",
       "mean    0.251279     59345.445440      221.641638         0.479875  \n",
       "std     0.050307     31806.819775       75.740243         0.280814  \n",
       "min     0.171223     36282.798414      134.751189         0.117229  \n",
       "25%     0.217579     36987.635621      183.151188         0.289083  \n",
       "50%     0.266860     41424.914613      191.436556         0.478853  \n",
       "75%     0.291036     74394.155722      254.044679         0.668887  \n",
       "max     0.303644    114946.822367      350.911985         0.847104  "
      ]
     },
     "execution_count": 29,
     "metadata": {},
     "output_type": "execute_result"
    }
   ],
   "source": [
    "mef.describe()"
   ]
  },
  {
   "cell_type": "code",
   "execution_count": 30,
   "metadata": {},
   "outputs": [
    {
     "data": {
      "text/html": [
       "<div>\n",
       "<style scoped>\n",
       "    .dataframe tbody tr th:only-of-type {\n",
       "        vertical-align: middle;\n",
       "    }\n",
       "\n",
       "    .dataframe tbody tr th {\n",
       "        vertical-align: top;\n",
       "    }\n",
       "\n",
       "    .dataframe thead th {\n",
       "        text-align: right;\n",
       "    }\n",
       "</style>\n",
       "<table border=\"1\" class=\"dataframe\">\n",
       "  <thead>\n",
       "    <tr style=\"text-align: right;\">\n",
       "      <th></th>\n",
       "      <th>Unnamed: 0</th>\n",
       "      <th>gel</th>\n",
       "      <th>Ponceau-density</th>\n",
       "      <th>Ponceau-area</th>\n",
       "      <th>Blot-density</th>\n",
       "      <th>Blot-area</th>\n",
       "      <th>Ponceau-protein</th>\n",
       "      <th>Blot-oxidation</th>\n",
       "      <th>Oxidation index</th>\n",
       "    </tr>\n",
       "  </thead>\n",
       "  <tbody>\n",
       "    <tr>\n",
       "      <th>count</th>\n",
       "      <td>8.000000</td>\n",
       "      <td>8.000000</td>\n",
       "      <td>8.000000</td>\n",
       "      <td>8.000000</td>\n",
       "      <td>8.000000</td>\n",
       "      <td>8.000000</td>\n",
       "      <td>8.000000</td>\n",
       "      <td>8.000000</td>\n",
       "      <td>8.000000</td>\n",
       "    </tr>\n",
       "    <tr>\n",
       "      <th>mean</th>\n",
       "      <td>9.000000</td>\n",
       "      <td>1.500000</td>\n",
       "      <td>25038.519346</td>\n",
       "      <td>0.419588</td>\n",
       "      <td>45.991938</td>\n",
       "      <td>0.271008</td>\n",
       "      <td>61781.275558</td>\n",
       "      <td>169.008303</td>\n",
       "      <td>0.311512</td>\n",
       "    </tr>\n",
       "    <tr>\n",
       "      <th>std</th>\n",
       "      <td>3.927922</td>\n",
       "      <td>0.534522</td>\n",
       "      <td>5722.036509</td>\n",
       "      <td>0.087600</td>\n",
       "      <td>16.273989</td>\n",
       "      <td>0.047850</td>\n",
       "      <td>17818.976469</td>\n",
       "      <td>45.717952</td>\n",
       "      <td>0.165700</td>\n",
       "    </tr>\n",
       "    <tr>\n",
       "      <th>min</th>\n",
       "      <td>4.000000</td>\n",
       "      <td>1.000000</td>\n",
       "      <td>18020.542806</td>\n",
       "      <td>0.311782</td>\n",
       "      <td>23.497238</td>\n",
       "      <td>0.180762</td>\n",
       "      <td>36180.405353</td>\n",
       "      <td>101.289454</td>\n",
       "      <td>0.129723</td>\n",
       "    </tr>\n",
       "    <tr>\n",
       "      <th>25%</th>\n",
       "      <td>5.750000</td>\n",
       "      <td>1.000000</td>\n",
       "      <td>22469.204936</td>\n",
       "      <td>0.367868</td>\n",
       "      <td>37.332230</td>\n",
       "      <td>0.253167</td>\n",
       "      <td>50118.323001</td>\n",
       "      <td>132.021173</td>\n",
       "      <td>0.183798</td>\n",
       "    </tr>\n",
       "    <tr>\n",
       "      <th>50%</th>\n",
       "      <td>9.000000</td>\n",
       "      <td>1.500000</td>\n",
       "      <td>23592.355191</td>\n",
       "      <td>0.402884</td>\n",
       "      <td>43.436994</td>\n",
       "      <td>0.285675</td>\n",
       "      <td>62853.882078</td>\n",
       "      <td>173.847139</td>\n",
       "      <td>0.290903</td>\n",
       "    </tr>\n",
       "    <tr>\n",
       "      <th>75%</th>\n",
       "      <td>12.250000</td>\n",
       "      <td>2.000000</td>\n",
       "      <td>25655.879295</td>\n",
       "      <td>0.446189</td>\n",
       "      <td>50.827628</td>\n",
       "      <td>0.290122</td>\n",
       "      <td>69065.945597</td>\n",
       "      <td>210.172296</td>\n",
       "      <td>0.406324</td>\n",
       "    </tr>\n",
       "    <tr>\n",
       "      <th>max</th>\n",
       "      <td>14.000000</td>\n",
       "      <td>2.000000</td>\n",
       "      <td>36853.524171</td>\n",
       "      <td>0.601925</td>\n",
       "      <td>76.686990</td>\n",
       "      <td>0.341589</td>\n",
       "      <td>91625.241464</td>\n",
       "      <td>224.500652</td>\n",
       "      <td>0.620503</td>\n",
       "    </tr>\n",
       "  </tbody>\n",
       "</table>\n",
       "</div>"
      ],
      "text/plain": [
       "       Unnamed: 0       gel  Ponceau-density  Ponceau-area  Blot-density  \\\n",
       "count    8.000000  8.000000         8.000000      8.000000      8.000000   \n",
       "mean     9.000000  1.500000     25038.519346      0.419588     45.991938   \n",
       "std      3.927922  0.534522      5722.036509      0.087600     16.273989   \n",
       "min      4.000000  1.000000     18020.542806      0.311782     23.497238   \n",
       "25%      5.750000  1.000000     22469.204936      0.367868     37.332230   \n",
       "50%      9.000000  1.500000     23592.355191      0.402884     43.436994   \n",
       "75%     12.250000  2.000000     25655.879295      0.446189     50.827628   \n",
       "max     14.000000  2.000000     36853.524171      0.601925     76.686990   \n",
       "\n",
       "       Blot-area  Ponceau-protein  Blot-oxidation  Oxidation index  \n",
       "count   8.000000         8.000000        8.000000         8.000000  \n",
       "mean    0.271008     61781.275558      169.008303         0.311512  \n",
       "std     0.047850     17818.976469       45.717952         0.165700  \n",
       "min     0.180762     36180.405353      101.289454         0.129723  \n",
       "25%     0.253167     50118.323001      132.021173         0.183798  \n",
       "50%     0.285675     62853.882078      173.847139         0.290903  \n",
       "75%     0.290122     69065.945597      210.172296         0.406324  \n",
       "max     0.341589     91625.241464      224.500652         0.620503  "
      ]
     },
     "execution_count": 30,
     "metadata": {},
     "output_type": "execute_result"
    }
   ],
   "source": [
    "mef_cg.describe()"
   ]
  },
  {
   "cell_type": "code",
   "execution_count": 31,
   "metadata": {},
   "outputs": [
    {
     "data": {
      "text/plain": [
       "7.515801481850367"
      ]
     },
     "execution_count": 31,
     "metadata": {},
     "output_type": "execute_result"
    }
   ],
   "source": [
    "((0.345379 - 0.319421)/ 0.345379)*100"
   ]
  },
  {
   "cell_type": "code",
   "execution_count": 32,
   "metadata": {},
   "outputs": [
    {
     "data": {
      "text/plain": [
       "0.4788529400954715"
      ]
     },
     "execution_count": 32,
     "metadata": {},
     "output_type": "execute_result"
    }
   ],
   "source": [
    "median_mef = mef[\"Oxidation index\"].median()\n",
    "median_mef"
   ]
  },
  {
   "cell_type": "code",
   "execution_count": 33,
   "metadata": {},
   "outputs": [],
   "source": [
    "median_cg = mef_cg[\"Oxidation index\"].median()"
   ]
  },
  {
   "cell_type": "code",
   "execution_count": 34,
   "metadata": {},
   "outputs": [
    {
     "data": {
      "text/plain": [
       "-64.60887017000783"
      ]
     },
     "execution_count": 34,
     "metadata": {},
     "output_type": "execute_result"
    }
   ],
   "source": [
    "((median_cg - median_mef)/median_cg)*100"
   ]
  }
 ],
 "metadata": {
  "kernelspec": {
   "display_name": "Python 3",
   "language": "python",
   "name": "python3"
  },
  "language_info": {
   "codemirror_mode": {
    "name": "ipython",
    "version": 3
   },
   "file_extension": ".py",
   "mimetype": "text/x-python",
   "name": "python",
   "nbconvert_exporter": "python",
   "pygments_lexer": "ipython3",
   "version": "3.7.3"
  }
 },
 "nbformat": 4,
 "nbformat_minor": 2
}
